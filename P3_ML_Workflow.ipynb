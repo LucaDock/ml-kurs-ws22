{
 "cells": [
  {
   "cell_type": "markdown",
   "metadata": {},
   "source": [
    "# Praktische Übung 3: ML-Workflow"
   ]
  },
  {
   "cell_type": "markdown",
   "metadata": {},
   "source": [
    "## Titanic-Datensatz\n",
    "Vorhersageproblem:\n",
    "\n",
    "- Gegeben: Verschiedene Attribute zu den Passagieren auf der Titanic\n",
    "- Frage: Hat der Passagier das Unglück überlebt?"
   ]
  },
  {
   "cell_type": "markdown",
   "metadata": {},
   "source": [
    "Spalten des Datensatzes:\n",
    "- Pclass, Passenger Class (1 = 1st, 2 = 2nd, 3 = 3rd)\n",
    "- Survived, Survival (0 = no, 1 = yes)\n",
    "- name, Name\n",
    "- sex, Sex\n",
    "- age, Age\n",
    "- sibsp, Number of siblings/spouses aboard\n",
    "- parch, Number of children/parents aboard\n",
    "- ticket, Ticket Number\n",
    "- fare, Passenger Fare (brithish pound)\n",
    "- cabin, Cabin\n",
    "- embarked, Port of Embarkation, C = Cherbourg, Q = Queenstown, S = Southhampton"
   ]
  },
  {
   "cell_type": "markdown",
   "metadata": {},
   "source": [
    "## Aufgabe 1"
   ]
  },
  {
   "cell_type": "markdown",
   "metadata": {},
   "source": [
    "1. Laden Sie den Datensatz aus `titanic.csv` in einen Pandas-DataFrame. Die Daten befinden sich im `/data` folder auf [GitHub](https://github.com/pabair/ml-kurs-ws22/).\n",
    "2. Erstellen Sie einen neuen DataFrame, der nur die folgenden Spalten enthält: \"Survived\", \"Pclass\", \"Age\", \"Fare\", \"Sibsp\", \"Parch\"\n",
    "3. Unterteilen Sie die Daten mit der Methode `train_test_split` in Trainings- und Testdaten. (80% Training, 20% Test). Hint: Für die ersten 3 Aufgaben können Sie von der Lösung der letzten Übung kopieren.\n",
    "4. Überprüfen Sie, welche Attribute `NaN`-Werte enthalten.\n",
    "5. Füllen Sie diese Werte mit dem Durchschnittswert der übrigen Werte aus der gleichen Spalte auf."
   ]
  },
  {
   "cell_type": "markdown",
   "metadata": {},
   "source": [
    "## Aufgabe 2"
   ]
  },
  {
   "cell_type": "markdown",
   "metadata": {},
   "source": [
    "1. Skalieren Sie die Daten aus `x_train` mit einem `StandardScaler`.\n",
    "2. Trainieren Sie eine logistische Regression auf den skalierten Daten und `y_train`.\n",
    "3. Entfernen Sie alle Datenpunkte mit `NaN`-Werten aus `x_test`.\n",
    "4. Entfernen Sie die genau gleichen Zeilen auch aus `y_test`.\n",
    "5. Skalieren Sie die Datenpunkte `x_test` mit dem gleichen Skalierer wie in Aufgabe 2.\n",
    "6. Machen Sie eine Vorhersage aus den skalierten Testdaten und berechnen Sie Accuracy, Precision und Recall."
   ]
  },
  {
   "cell_type": "markdown",
   "metadata": {},
   "source": [
    "## Aufgabe 3"
   ]
  },
  {
   "cell_type": "markdown",
   "metadata": {},
   "source": [
    "1. Fügen Sie `Embarked` und `Sex` als weitere Feature hinzu.\n",
    "2. Führen Sie ein one-hot-encoding dieser Attribute durch und durchlaufen Sie die Schritte aus Aufgabe 1 und 2, um das Modell mit den Features zu trainieren.\n",
    "3. Vergleichen Sie die Performance des Modells mit und ohne diese Features."
   ]
  },
  {
   "cell_type": "markdown",
   "metadata": {},
   "source": [
    "## Bonus"
   ]
  },
  {
   "cell_type": "markdown",
   "metadata": {},
   "source": [
    "Entwerfen Sie ein Feature aus dem Attribut `Cabin` und schauen Sie, ob sich das Modell dadurch verbessert."
   ]
  }
 ],
 "metadata": {
  "kernelspec": {
   "display_name": "Python 3.9.13 64-bit",
   "language": "python",
   "name": "python3"
  },
  "language_info": {
   "name": "python",
   "version": "3.9.13"
  },
  "orig_nbformat": 4,
  "vscode": {
   "interpreter": {
    "hash": "b0fa6594d8f4cbf19f97940f81e996739fb7646882a419484c72d19e05852a7e"
   }
  }
 },
 "nbformat": 4,
 "nbformat_minor": 2
}
